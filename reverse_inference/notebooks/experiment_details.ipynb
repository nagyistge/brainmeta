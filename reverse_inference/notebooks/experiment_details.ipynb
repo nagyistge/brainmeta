{
 "metadata": {
  "name": ""
 },
 "nbformat": 3,
 "nbformat_minor": 0,
 "worksheets": [
  {
   "cells": [
    {
     "cell_type": "markdown",
     "metadata": {},
     "source": [
      "### Does Image Similarity Map Onto Map Similarity?\n",
      "\n",
      " - *Experiment 1*: code all of the tasks in terms of an ontology (*cough* cognitive atlas) and then (to) assess similarity using a metric that is aware of the ontological similarity of the contrasts.  \n",
      " - *Experiment 2*: do the inverse - basically to use the confusions to cluster the contrasts, and then to examine the clustering of tasks in order to assess how well they fit the ontology.\n",
      "     \n",
      "     \n",
      "### Things I Need to Do\n",
      "\n",
      "- Does Cognitive Atlas have contrasts represented that were added for HCP?\n",
      "- Code Images from HCP (group maps) in terms of Cognitive Atlas (modify my data structure in pybraincompare?)\n",
      "- Learn metrics that are aware of ontological similarity"
     ]
    },
    {
     "cell_type": "code",
     "collapsed": false,
     "input": [],
     "language": "python",
     "metadata": {},
     "outputs": []
    }
   ],
   "metadata": {}
  }
 ]
}