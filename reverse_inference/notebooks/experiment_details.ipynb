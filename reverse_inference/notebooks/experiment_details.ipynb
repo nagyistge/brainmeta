{
 "metadata": {
  "name": ""
 },
 "nbformat": 3,
 "nbformat_minor": 0,
 "worksheets": [
  {
   "cells": [
    {
     "cell_type": "markdown",
     "metadata": {},
     "source": [
      "### Does Image Similarity Map Onto Map Similarity?\n",
      "\n",
      " - *Experiment 1*: code all of the tasks in terms of an ontology (*cough* cognitive atlas) and then (to) assess similarity using a metric that is aware of the ontological similarity of the contrasts.  \n",
      " - *Experiment 2*: do the inverse - basically to use the confusions to cluster the contrasts, and then to examine the clustering of tasks in order to assess how well they fit the ontology.\n",
      "     \n",
      "     \n",
      "### Overview of Plan\n",
      "\n",
      " - We want to combine HCP with Openfmri.\n",
      " - [Finish coding](https://github.com/vsoch/taskfmri) HCP and Openfmri contrasts, meaning mapping contrasts to concepts in Openfmri\n",
      " - Add all Openfmri tasks to the the cognitive atlas (if not existing)\n",
      " - Get feedback on mappings\n",
      " - Make concept --> contrast assertions\n",
      " - Get new RDF dumps\n",
      " - Then do experiments\n",
      " \n",
      "Since all task data for both HCP and Openfmri is in NeuroVault, I'd like to do the analysis in an \"as programmatic as possible\" way so as we get more tagged maps in NeuroVault, it will be easy to reproduce. "
     ]
    },
    {
     "cell_type": "markdown",
     "metadata": {},
     "source": [
      "### Work Log\n",
      "\n",
      "#### 4/18/2015\n",
      "\n",
      "- OpenfMRI contrasts from Chris updated from Z-->T maps (newer pipeline) in NeuroVault\n",
      "- pyneurovault api updated for new neurosynth and neurovault api\n",
      "- NeuroVault API modified to expose openfmri task uid\n",
      "- extraction of [openfmri and hcp image data](https://github.com/NeuroVault/pyneurovault/blob/master/examples/download_example.py) (and tagged tasks) from NeuroVault programmatically\n",
      "- preliminary work to [define concepts for each contrast](https://github.com/vsoch/taskfmri/blob/master/all_contrasts_cognitive_atlas_coding.tsv)\n",
      "\n",
      "\n",
      "#### 4/19/2015\n",
      "\n",
      "- Finished \"guesstimating\" concepts for each contrast\n",
      "- Russ: we need to pin down the contrasts for [ds115](http://neurovault.org/collections/428/) I found the conditions but not contrasts on TACC. I think someone named \"Deanna\" might know, as I've seen her name in a few places.\n"
     ]
    },
    {
     "cell_type": "code",
     "collapsed": false,
     "input": [],
     "language": "python",
     "metadata": {},
     "outputs": []
    }
   ],
   "metadata": {}
  }
 ]
}