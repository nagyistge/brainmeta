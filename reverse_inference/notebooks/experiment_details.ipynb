{
 "metadata": {
  "name": ""
 },
 "nbformat": 3,
 "nbformat_minor": 0,
 "worksheets": [
  {
   "cells": [
    {
     "cell_type": "markdown",
     "metadata": {},
     "source": [
      "### Does Image Similarity Map Onto Map Similarity?\n",
      "\n",
      " - *Experiment 1*: code all of the tasks in terms of an ontology (*cough* cognitive atlas) and then (to) assess similarity using a metric that is aware of the ontological similarity of the contrasts.  \n",
      " - *Experiment 2*: do the inverse - basically to use the confusions to cluster the contrasts, and then to examine the clustering of tasks in order to assess how well they fit the ontology.\n",
      "     \n",
      "     \n",
      "### Plan of Action\n",
      "\n",
      " - We want to combine HCP with Openfmri.\n",
      " - [Finish coding](https://github.com/vsoch/taskfmri) HCP and Openfmri contrasts, meaning mapping contrasts to concepts in Openfmri\n",
      " - Add all Openfmri tasks to the the cognitive atlas (if not existing)\n",
      " - Get feedback on mappings\n",
      " - Make concept --> contrast assertions\n",
      " - Get new RDF dumps\n",
      " - Then do experiments\n",
      " \n",
      "Since all task data for both HCP and Openfmri is in NeuroVault, I'd like to do the analysis in an \"as programmatic as possible\" way so as we get more tagged maps in NeuroVault, it will be easy to reproduce. "
     ]
    },
    {
     "cell_type": "code",
     "collapsed": false,
     "input": [],
     "language": "python",
     "metadata": {},
     "outputs": []
    }
   ],
   "metadata": {}
  }
 ]
}