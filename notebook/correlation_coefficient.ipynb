{
 "metadata": {
  "name": ""
 },
 "nbformat": 3,
 "nbformat_minor": 0,
 "worksheets": [
  {
   "cells": [
    {
     "cell_type": "markdown",
     "metadata": {},
     "source": [
      "The correlation coefficient is the ratio of the covariance and product of the variances. First, some helper functions:"
     ]
    },
    {
     "cell_type": "code",
     "collapsed": false,
     "input": [
      "# Helper functions\n",
      "\n",
      "def covariance(X,Y):  \n",
      "  '''Covariance is basically summing up the product of the differences of each value to the sample mean, and then dividing by N-1. In the case of a population, we would divide by N.'''\n",
      "  X = X.flatten(); Y=Y.flatten()\n",
      "  if len(X) == len(Y):\n",
      "    #cov = 0\n",
      "    #for i in range(0,len(X)):\n",
      "    #  cov += ( ( (X[i] - np.mean(X)) * (Y[i] - np.mean(Y) )) )\n",
      "    #return cov / (len(X) - 1)\n",
      "    return np.dot(X-np.mean(X),Y-np.mean(Y)) / (len(X)-1)\n",
      "\n",
      "def variance(X):\n",
      "  '''Variance is average deviation from the mean.'''\n",
      "  #var = 0\n",
      "  #for i in range(0,len(X)):\n",
      "  #  var += np.square(X[i] - np.mean(X))\n",
      "  #return var / len(X)\n",
      "  X = X.flatten()\n",
      "  return np.sum(np.square(X-np.mean(X))) / len(X)\n",
      "\n",
      "def standard_deviation(X):\n",
      "  '''Standard deviation is (a human interpretable) version of average deviation from the mean (eg, back in same scale as data)'''\n",
      "  return np.sqrt(variance(X))\n",
      "\n",
      "def correlation_coefficient(X,Y):\n",
      "  '''Correlation coefficient is ratio between covariance and product of standard deviations'''\n",
      "  return covariance(X,Y) / (standard_deviation(X) * standard_deviation(Y))"
     ],
     "language": "python",
     "metadata": {},
     "outputs": [],
     "prompt_number": 46
    },
    {
     "cell_type": "raw",
     "metadata": {},
     "source": [
      "Test it against numpy."
     ]
    },
    {
     "cell_type": "code",
     "collapsed": false,
     "input": [
      "import numpy as np\n",
      "\n",
      "X = np.array([1,2,3])\n",
      "Y = np.array([4,5,6])\n",
      "\n",
      "# Covariance: how much two independent random variables move together\n",
      "print \"Covariance we calculate is %s\" %(covariance(X,Y))\n",
      "print \"Numpy calculates %s\" %(np.cov(X,Y)[0][1])\n",
      "\n",
      "# Variance: average deviation for a random variable from the mean\n",
      "print \"Variance we calculate is %s\" %(variance(X))\n",
      "print \"Numy calculates %s\" %(np.var(X))\n",
      "\n",
      "# Standard deviation is also a measure of average variation from the mean, but back in the space of the data (so its more human interpretable)\n",
      "print \"Covariance we calculate is %s\" %(standard_deviation(X))\n",
      "print \"Numpy calculates %s\" %(np.std(X))"
     ],
     "language": "python",
     "metadata": {},
     "outputs": [
      {
       "output_type": "stream",
       "stream": "stdout",
       "text": [
        "Covariance we calculate is 1.0\n",
        "Numpy calculates 1.0\n",
        "Variance we calculate is 0.666666666667\n",
        "Numy calculates 0.666666666667\n",
        "Covariance we calculate is 0.816496580928\n",
        "Numpy calculates 0.816496580928\n"
       ]
      }
     ],
     "prompt_number": 38
    },
    {
     "cell_type": "markdown",
     "metadata": {},
     "source": [
      "Now here is the correlation coefficient:"
     ]
    },
    {
     "cell_type": "code",
     "collapsed": false,
     "input": [
      "# Correlation coefficient is the ratio between covariance and product of standard deviations.\n",
      "def correlation_coefficient(X,Y):\n",
      "  '''Correlation coefficient is ratio between covariance and product of standard deviations'''\n",
      "  return covariance(X,Y) / (standard_deviation(X) * standard_deviation(Y))\n",
      "\n",
      "# These are different, and I don't know why.\n",
      "print \"Correlation coefficient we calculate is %s\" %(correlation_coefficient(X,Y))\n",
      "print \"Numpy gets %s\" %(np.corrcoef(X,Y)[0][1])"
     ],
     "language": "python",
     "metadata": {},
     "outputs": [
      {
       "output_type": "stream",
       "stream": "stdout",
       "text": [
        "Correlation coefficient we calculate is 1.5\n",
        "Numpy gets 1.0\n"
       ]
      }
     ],
     "prompt_number": 40
    },
    {
     "cell_type": "markdown",
     "metadata": {},
     "source": [
      "I looked in the numpy code and I see the following, and I added a print line to see we are returning a scalar covariance:"
     ]
    },
    {
     "cell_type": "code",
     "collapsed": false,
     "input": [
      "def corrcoef(x, y):\n",
      "    c = covariance(x, y)\n",
      "    if c.size == 0:\n",
      "        # handle empty arrays\n",
      "        return c\n",
      "    try:\n",
      "        d = np.diag(c)\n",
      "    except ValueError: # scalar covariance\n",
      "        print \"We are returning a scalar covariance\"\n",
      "        return 1\n",
      "    return c/np.sqrt(np.multiply.outer(d, d))\n",
      "\n",
      "corrcoef(X,Y)"
     ],
     "language": "python",
     "metadata": {},
     "outputs": [
      {
       "output_type": "stream",
       "stream": "stdout",
       "text": [
        "We are returning a scalar covariance\n"
       ]
      },
      {
       "metadata": {},
       "output_type": "pyout",
       "prompt_number": 48,
       "text": [
        "1"
       ]
      }
     ],
     "prompt_number": 48
    },
    {
     "cell_type": "markdown",
     "metadata": {},
     "source": [
      "What does that mean?"
     ]
    }
   ],
   "metadata": {}
  }
 ]
}